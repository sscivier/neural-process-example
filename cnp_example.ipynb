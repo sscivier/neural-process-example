{
 "cells": [
  {
   "cell_type": "code",
   "execution_count": 1,
   "metadata": {
    "execution": {
     "iopub.execute_input": "2024-04-19T12:19:47.592563Z",
     "iopub.status.busy": "2024-04-19T12:19:47.592263Z",
     "iopub.status.idle": "2024-04-19T12:19:48.669403Z",
     "shell.execute_reply": "2024-04-19T12:19:48.669021Z"
    }
   },
   "outputs": [
    {
     "name": "stderr",
     "output_type": "stream",
     "text": [
      "/home/scivier/Documents/neural-process-example/venv/lib/python3.10/site-packages/tqdm/auto.py:21: TqdmWarning: IProgress not found. Please update jupyter and ipywidgets. See https://ipywidgets.readthedocs.io/en/stable/user_install.html\n",
      "  from .autonotebook import tqdm as notebook_tqdm\n"
     ]
    }
   ],
   "source": [
    "import numpy as np\n",
    "import matplotlib.pyplot as plt\n",
    "\n",
    "import jax\n",
    "import jax.numpy as jnp\n",
    "\n",
    "import equinox as eqx\n",
    "import optax\n",
    "\n",
    "import numpyro.distributions as dist\n",
    "\n",
    "import torch\n",
    "from torch.utils.data import TensorDataset, DataLoader, random_split\n",
    "\n",
    "from IPython.display import clear_output\n",
    "\n",
    "from typing import List, Tuple\n",
    "from jaxtyping import Int, Array, Float, PyTree"
   ]
  },
  {
   "cell_type": "code",
   "execution_count": 2,
   "metadata": {
    "execution": {
     "iopub.execute_input": "2024-04-19T12:19:48.671328Z",
     "iopub.status.busy": "2024-04-19T12:19:48.671152Z",
     "iopub.status.idle": "2024-04-19T12:19:48.674287Z",
     "shell.execute_reply": "2024-04-19T12:19:48.673990Z"
    }
   },
   "outputs": [],
   "source": [
    "%load_ext line_profiler"
   ]
  },
  {
   "cell_type": "code",
   "execution_count": 3,
   "metadata": {
    "execution": {
     "iopub.execute_input": "2024-04-19T12:19:48.675315Z",
     "iopub.status.busy": "2024-04-19T12:19:48.675234Z",
     "iopub.status.idle": "2024-04-19T12:19:48.678606Z",
     "shell.execute_reply": "2024-04-19T12:19:48.678314Z"
    }
   },
   "outputs": [],
   "source": [
    "# Defining the MLP model, to be used as a batch MLP\n",
    "# Inherit the eqx.Module class\n",
    "\n",
    "class MLP(eqx.Module):\n",
    "\n",
    "    layers: List\n",
    "\n",
    "    def __init__(\n",
    "        self,\n",
    "        layer_sizes: List,\n",
    "        key: jax.random.PRNGKey,\n",
    "    ):\n",
    "\n",
    "        self.layers = []\n",
    "\n",
    "        for (feat_in, feat_out) in zip(layer_sizes[:-2], layer_sizes[1:-1]):\n",
    "            key, subkey = jax.random.split(key)\n",
    "\n",
    "            self.layers.append(\n",
    "                eqx.nn.Linear(feat_in, feat_out, use_bias=True, key=subkey)\n",
    "            )  # fully-connected layer\n",
    "            self.layers.append(\n",
    "                jnp.tanh\n",
    "            )  # activation function\n",
    "\n",
    "        key, subkey = jax.random.split(key)\n",
    "\n",
    "        self.layers.append(\n",
    "            eqx.nn.Linear(layer_sizes[-2], layer_sizes[-1], use_bias=True, key=subkey)\n",
    "        )  # final layer\n",
    "\n",
    "    # __call__ turns an instance of this class into a callable object, which behaves like a function\n",
    "    def __call__(\n",
    "        self,\n",
    "        x: Float[Array, \"1 1\"],\n",
    "    ) -> Float[Array, \"1 1\"]:\n",
    "\n",
    "        # apply each layer in sequence\n",
    "        for layer in self.layers:\n",
    "            x = layer(x)\n",
    "\n",
    "        return x"
   ]
  },
  {
   "cell_type": "code",
   "execution_count": 4,
   "metadata": {
    "execution": {
     "iopub.execute_input": "2024-04-19T12:19:48.679700Z",
     "iopub.status.busy": "2024-04-19T12:19:48.679593Z",
     "iopub.status.idle": "2024-04-19T12:19:48.683747Z",
     "shell.execute_reply": "2024-04-19T12:19:48.683448Z"
    }
   },
   "outputs": [],
   "source": [
    "class CNP(eqx.Module):\n",
    "\n",
    "    layers: list\n",
    "\n",
    "    def __init__(\n",
    "            self,\n",
    "            encoder: MLP,\n",
    "            decoder: MLP,\n",
    "    ):\n",
    "\n",
    "        self.layers = [encoder, decoder]\n",
    "\n",
    "\n",
    "    def __call__(\n",
    "            self,\n",
    "            x_context: Float[Array, \"batch n_context 1\"],\n",
    "            y_context: Float[Array, \"batch n_context 1\"],\n",
    "            x_target: Float[Array, \"batch n_target 1\"],\n",
    "    ) -> dist.Distribution:\n",
    "\n",
    "        # get number of target points\n",
    "        _, n_target, _ = x_target.shape\n",
    "\n",
    "        # encoder step\n",
    "        encoded_rep = self._encode(x_context, y_context)  # (batch_size, 1, encoder_dim)\n",
    "\n",
    "        # tile sample before passing to the decoder\n",
    "        representation = self._tile(encoded_rep, n_target)  # (batch_size, n_target, encoder_dim)\n",
    "\n",
    "        # decoder step to produce distribution of functions\n",
    "        distribution = self._decode(representation, x_target)\n",
    "\n",
    "        return distribution\n",
    "\n",
    "\n",
    "    def _encode(\n",
    "            self,\n",
    "            x_context: Float[Array, \"batch n_context 1\"],\n",
    "            y_context: Float[Array, \"batch n_context 1\"],\n",
    "    ) -> dist.Distribution:\n",
    "\n",
    "        xy_context = jnp.concatenate([x_context, y_context], axis=-1)  # (batch_size, n_context, 2)\n",
    "\n",
    "        return jnp.mean(self._encode_mlp(xy_context), axis=1, keepdims=True)  # (batch_size, 1, encoder_dim)\n",
    "\n",
    "\n",
    "    def _encode_mlp(\n",
    "            self,\n",
    "            xy_context: Float[Array, \"batch n_context 2\"],\n",
    "    ) -> Float[Array, \"batch n_context encoder_dim\"]:\n",
    "\n",
    "        return jax.vmap(jax.vmap(self.layers[0]))(xy_context)\n",
    "\n",
    "\n",
    "    def _tile(\n",
    "            self,\n",
    "            z_latent: Float[Array, \"batch 1 encoder_dim\"],\n",
    "            n_target: Int,\n",
    "    ) -> Float[Array, \"batch n_target encoder_dim\"]:\n",
    "\n",
    "        return jnp.tile(z_latent, [1, n_target, 1])\n",
    "\n",
    "\n",
    "    def _decode(\n",
    "            self,\n",
    "            representation: Float[Array, \"batch n_target encoder_dim\"],\n",
    "            x_target: Float[Array, \"batch n_target 1\"],\n",
    "    ) -> dist.Distribution:\n",
    "\n",
    "        representation = jnp.concatenate([representation, x_target], axis=-1)  # (batch_size, n_target, encoder_dim + 1)\n",
    "\n",
    "        mlp_out = jax.vmap(jax.vmap(self.layers[1]))(representation)  # (batch_size, n_target, 1)\n",
    "\n",
    "        mu, sigma = jnp.split(mlp_out, 2, axis=-1)  # each (batch_size, n_target, 1)\n",
    "\n",
    "        sigma = 0.1 + 0.9 * jax.nn.softplus(sigma)\n",
    "\n",
    "        return dist.Normal(loc=mu, scale=sigma)"
   ]
  },
  {
   "cell_type": "code",
   "execution_count": 5,
   "metadata": {
    "execution": {
     "iopub.execute_input": "2024-04-19T12:19:48.684825Z",
     "iopub.status.busy": "2024-04-19T12:19:48.684676Z",
     "iopub.status.idle": "2024-04-19T12:19:48.687706Z",
     "shell.execute_reply": "2024-04-19T12:19:48.687409Z"
    }
   },
   "outputs": [],
   "source": [
    "def loss(\n",
    "        model: CNP,\n",
    "        x_context: Float[Array, \"batch n_context 1\"],\n",
    "        y_context: Float[Array, \"batch n_context 1\"],\n",
    "        x_target: Float[Array, \"batch n_context 1\"],\n",
    "        y_target: Float[Array, \"batch n_context 1\"],\n",
    ") -> Float[Array, \"\"]:\n",
    "\n",
    "    distribution = model(x_context, y_context, x_target)\n",
    "\n",
    "    return - np.mean(distribution.log_prob(y_target))\n",
    "\n",
    "loss_and_grad = eqx.filter_value_and_grad(loss)\n",
    "\n",
    "loss = eqx.filter_jit(loss)"
   ]
  },
  {
   "cell_type": "code",
   "execution_count": 6,
   "metadata": {
    "execution": {
     "iopub.execute_input": "2024-04-19T12:19:48.688805Z",
     "iopub.status.busy": "2024-04-19T12:19:48.688656Z",
     "iopub.status.idle": "2024-04-19T12:19:48.691695Z",
     "shell.execute_reply": "2024-04-19T12:19:48.691401Z"
    }
   },
   "outputs": [],
   "source": [
    "@eqx.filter_jit\n",
    "def split_data(\n",
    "    keys: List[jax.random.PRNGKey],\n",
    "    x: Float[Array, \"batch n_points 1\"],\n",
    "    y: Float[Array, \"batch n_points 1\"],\n",
    "    n_context: Int,\n",
    "    n_target: Int,\n",
    ") -> Tuple[Float[Array, \"batch n_context 1\"], Float[Array, \"batch n_context 1\"], Float[Array, \"batch n_target 1\"], Float[Array, \"batch n_target 1\"]]:\n",
    "\n",
    "    # def choose_values(\n",
    "    #     key: jax.random.PRNGKey,\n",
    "    #     arr: Array,\n",
    "    #     n: Int,\n",
    "    # ) -> Array:\n",
    "\n",
    "    #     rows, cols = arr.shape[0], arr.shape[1]\n",
    "\n",
    "    #     chosen_values = np.zeros((rows, n, arr.shape[2]))\n",
    "\n",
    "    #     for i in range(rows):\n",
    "    #         indices = jax.random.choice(key, cols, (n,), False)\n",
    "    #         chosen_values[i] = arr[i, indices, :]\n",
    "\n",
    "    #     return chosen_values\n",
    "\n",
    "    def choose_values(\n",
    "            key: jax.random.PRNGKey,\n",
    "            arr: Array,\n",
    "            n: Int,\n",
    "    ) -> Array:\n",
    "\n",
    "        cols = arr.shape[1]\n",
    "\n",
    "        indices = jax.random.choice(key, cols, (n,), False)\n",
    "\n",
    "        return arr[:, indices, :]\n",
    "\n",
    "    x_context = choose_values(keys[0], x, n_context)\n",
    "    y_context = choose_values(keys[0], y, n_context)\n",
    "    x_target = choose_values(keys[1], x, n_target)\n",
    "    y_target = choose_values(keys[1], y, n_target)\n",
    "\n",
    "    return x_context, y_context, x_target, y_target"
   ]
  },
  {
   "cell_type": "code",
   "execution_count": 7,
   "metadata": {
    "execution": {
     "iopub.execute_input": "2024-04-19T12:19:48.692699Z",
     "iopub.status.busy": "2024-04-19T12:19:48.692620Z",
     "iopub.status.idle": "2024-04-19T12:19:48.694926Z",
     "shell.execute_reply": "2024-04-19T12:19:48.694636Z"
    }
   },
   "outputs": [],
   "source": [
    "def evaluate(\n",
    "        key: jax.random.PRNGKey,\n",
    "        model: CNP,\n",
    "        test_loader: DataLoader,\n",
    "        n_context: Int,\n",
    "        n_target: Int,\n",
    ") -> Float[Array, \"\"]:\n",
    "\n",
    "    tot_loss = 0\n",
    "\n",
    "    for (x, y) in test_loader:\n",
    "        x, y = x.numpy(), y.numpy()\n",
    "\n",
    "        key, *subkeys = jax.random.split(key, 3)\n",
    "        x_context, y_context, x_target, y_target = split_data(subkeys, x, y, n_context, n_target)\n",
    "\n",
    "        tot_loss += loss(model, x_context, y_context, x_target, y_target)\n",
    "\n",
    "    return tot_loss / len(test_loader)"
   ]
  },
  {
   "cell_type": "code",
   "execution_count": 8,
   "metadata": {
    "execution": {
     "iopub.execute_input": "2024-04-19T12:19:48.696035Z",
     "iopub.status.busy": "2024-04-19T12:19:48.695870Z",
     "iopub.status.idle": "2024-04-19T12:19:48.700155Z",
     "shell.execute_reply": "2024-04-19T12:19:48.699859Z"
    }
   },
   "outputs": [],
   "source": [
    "def train(\n",
    "        key: jax.random.PRNGKey,\n",
    "        model: CNP,\n",
    "        train_loader: DataLoader,\n",
    "        test_loader: DataLoader,\n",
    "        optim: optax.GradientTransformation,\n",
    "        n_context: Int,\n",
    "        n_target: Int,\n",
    "        epochs: Int,\n",
    "        plot_every: Int,\n",
    ") -> CNP:\n",
    "\n",
    "    opt_state = optim.init(eqx.filter(model, eqx.is_array))\n",
    "\n",
    "    @eqx.filter_jit\n",
    "    def make_step(\n",
    "        model: CNP,\n",
    "        opt_state: PyTree,\n",
    "        x_context: Float[Array, \"batch n_context 1\"],\n",
    "        y_context: Float[Array, \"batch n_context 1\"],\n",
    "        x_target: Float[Array, \"batch n_target 1\"],\n",
    "        y_target: Float[Array, \"batch n_target 1\"],\n",
    "    ) -> Tuple[CNP, PyTree, Float]:\n",
    "\n",
    "        loss_value, grads = loss_and_grad(\n",
    "            model,\n",
    "            x_context,\n",
    "            y_context,\n",
    "            x_target,\n",
    "            y_target,\n",
    "        )\n",
    "        updates, opt_state = optim.update(grads, opt_state, model)\n",
    "        model = eqx.apply_updates(model, updates)\n",
    "\n",
    "        return model, opt_state, loss_value\n",
    "\n",
    "    train_losses = []\n",
    "    test_losses = []\n",
    "    plot_epochs = []\n",
    "\n",
    "    # Create a function to update the loss plot\n",
    "    def update_loss_plot(train_losses, test_losses, plot_epochs):\n",
    "        clear_output(wait=True)\n",
    "        plt.figure(figsize=(7, 5))\n",
    "        plt.plot(plot_epochs, train_losses, 'o-', markevery=[-1], label='train_loss')\n",
    "        plt.plot(plot_epochs, test_losses, 'o-', markevery=[-1], label='test_loss')\n",
    "        plt.xlim([0, epochs])\n",
    "        plt.xlabel('Epoch')\n",
    "        plt.ylabel('Loss')\n",
    "        plt.legend()\n",
    "        plt.title('Loss')\n",
    "        plt.grid(True)\n",
    "        plt.show()\n",
    "\n",
    "    for epoch in range(epochs):\n",
    "        epoch_loss = 0\n",
    "\n",
    "        for (x, y) in train_loader:\n",
    "            x, y = x.numpy(), y.numpy()\n",
    "\n",
    "            key, *subkeys = jax.random.split(key, 3)\n",
    "            x_context, y_context, x_target, y_target = split_data(subkeys, x, y, n_context, n_target)\n",
    "\n",
    "            model, opt_state, train_loss = make_step(\n",
    "                model,\n",
    "                opt_state,\n",
    "                x_context,\n",
    "                y_context,\n",
    "                x_target,\n",
    "                y_target,\n",
    "            )\n",
    "            epoch_loss += train_loss.item()\n",
    "\n",
    "        avg_epoch_loss = epoch_loss / len(train_loader)\n",
    "\n",
    "        if (epoch % plot_every) == 0:\n",
    "            key, subkey = jax.random.split(key, 2)\n",
    "            test_loss = evaluate(subkey, model, test_loader, n_context, n_target)\n",
    "            train_losses.append(avg_epoch_loss)\n",
    "            test_losses.append(test_loss)\n",
    "            plot_epochs.append(epoch)\n",
    "            update_loss_plot(train_losses, test_losses, plot_epochs)\n",
    "\n",
    "    return model"
   ]
  },
  {
   "cell_type": "code",
   "execution_count": 9,
   "metadata": {
    "execution": {
     "iopub.execute_input": "2024-04-19T12:19:48.701225Z",
     "iopub.status.busy": "2024-04-19T12:19:48.701073Z",
     "iopub.status.idle": "2024-04-19T12:19:48.704366Z",
     "shell.execute_reply": "2024-04-19T12:19:48.704082Z"
    }
   },
   "outputs": [],
   "source": [
    "def exponentiated_quadratic_kernel(\n",
    "    x: Array,\n",
    "    y: Array,\n",
    "    sigma: Float=1.0,\n",
    "    rho: Float=1.0,\n",
    ") -> Array:\n",
    "\n",
    "    def _exponentiated_quadratic(x, y, sigma, rho):\n",
    "        x_e = jnp.expand_dims(x, 1) / rho\n",
    "        y_e = jnp.expand_dims(y, 0) / rho\n",
    "        d = jnp.sum(jnp.square(x_e - y_e), axis=-1)\n",
    "        K = sigma * jnp.exp(-0.5 * d)\n",
    "        return K\n",
    "\n",
    "    return _exponentiated_quadratic(x, y, sigma, rho)\n",
    "\n",
    "\n",
    "def sample_gp(\n",
    "    key: jax.random.PRNGKey,\n",
    "    n_imgs: int,\n",
    "    domain: float,\n",
    "    grid_steps: int,\n",
    "    rho: float,\n",
    "    sigma: float,\n",
    ") -> Tuple[\n",
    "    Tuple[np.ndarray, np.ndarray],\n",
    "    np.ndarray\n",
    "    ]:\n",
    "\n",
    "    # generate array between -pi to pi with grid_steps no. of points\n",
    "    x = jnp.linspace(-domain, domain, grid_steps).reshape(\n",
    "        (grid_steps, 1)\n",
    "    )\n",
    "\n",
    "    ys = []\n",
    "    for _ in range(n_imgs):\n",
    "        key, *subkeys = jax.random.split(key, 3)\n",
    "\n",
    "        K = exponentiated_quadratic_kernel(x, x, sigma, rho)\n",
    "\n",
    "        y = jax.random.multivariate_normal(\n",
    "            subkeys[0],\n",
    "            mean=jnp.zeros(grid_steps),\n",
    "            cov=K + jnp.diag(jnp.ones(grid_steps)) * np.mean(np.abs(K)) * 1e-5,\n",
    "        )\n",
    "        ys.append(y.reshape((1, grid_steps, 1)))\n",
    "\n",
    "    # repeat x along first axis n_imgs times\n",
    "    x = np.array(jnp.tile(x, [n_imgs, 1, 1]))  # shape (n_imgs, grid_steps ** 2, 1)\n",
    "    y = np.array(jnp.vstack(jnp.array(ys)))  # shape (n_imgs, grid_steps ** 2, 1)\n",
    "\n",
    "    return x, y"
   ]
  },
  {
   "cell_type": "code",
   "execution_count": 10,
   "metadata": {
    "execution": {
     "iopub.execute_input": "2024-04-19T12:19:48.705359Z",
     "iopub.status.busy": "2024-04-19T12:19:48.705281Z",
     "iopub.status.idle": "2024-04-19T12:19:48.707477Z",
     "shell.execute_reply": "2024-04-19T12:19:48.707201Z"
    }
   },
   "outputs": [],
   "source": [
    "def normalize(arr, n):\n",
    "    min_val = np.min(arr)\n",
    "    max_val = np.max(arr)\n",
    "    normalized_arr = 2 * n * (arr - min_val) / (max_val - min_val) - n\n",
    "    return normalized_arr, min_val, max_val\n",
    "\n",
    "def unnormalize(normalized_arr, min_val, max_val, n):\n",
    "    arr = 0.5 * (normalized_arr + n) * (max_val - min_val) / n + min_val\n",
    "    return arr\n",
    "\n",
    "def unnormalize_std(normalized_std, min_val, max_val, n):\n",
    "    std = normalized_std * (max_val - min_val) / (2 * n)\n",
    "    return std"
   ]
  },
  {
   "cell_type": "code",
   "execution_count": 11,
   "metadata": {
    "execution": {
     "iopub.execute_input": "2024-04-19T12:19:48.708495Z",
     "iopub.status.busy": "2024-04-19T12:19:48.708388Z",
     "iopub.status.idle": "2024-04-19T12:19:48.742272Z",
     "shell.execute_reply": "2024-04-19T12:19:48.741964Z"
    }
   },
   "outputs": [],
   "source": [
    "N_FUNCTIONS = 1024\n",
    "N_POINTS = 64\n",
    "RHO = 1.0\n",
    "SIGMA = 2.0\n",
    "DOMAIN = 2\n",
    "NORM_SCALE = 4\n",
    "\n",
    "SPLIT = 0.8\n",
    "BATCH_SIZE = 64\n",
    "N_CONTEXT = 4\n",
    "N_TARGET = 32\n",
    "\n",
    "ENCODER_DIM = 128  # latent dimension of the encoder\n",
    "ENCODER_LAYERS = [2, ENCODER_DIM, ENCODER_DIM, ENCODER_DIM]  # number of neurons in each fully-connected layer\n",
    "DECODER_LAYERS = [ENCODER_DIM + 1, ENCODER_DIM, ENCODER_DIM, ENCODER_DIM, 2]  # number of neurons in each fully-connected layer\n",
    "LEARNING_RATE = 3e-4\n",
    "EPOCHS = 200\n",
    "PLOT_EVERY = int(10)  # plot progress during training every PRINT_EVERY epochs\n",
    "\n",
    "SEED = 5678\n",
    "key = jax.random.PRNGKey(SEED)"
   ]
  },
  {
   "cell_type": "code",
   "execution_count": 12,
   "metadata": {
    "execution": {
     "iopub.execute_input": "2024-04-19T12:19:48.743759Z",
     "iopub.status.busy": "2024-04-19T12:19:48.743676Z",
     "iopub.status.idle": "2024-04-19T12:19:49.430642Z",
     "shell.execute_reply": "2024-04-19T12:19:49.430244Z"
    }
   },
   "outputs": [
    {
     "name": "stdout",
     "output_type": "stream",
     "text": [
      "(1024, 64, 1) (1024, 64, 1)\n"
     ]
    }
   ],
   "source": [
    "key, subkey = jax.random.split(key, 2)\n",
    "x, y = sample_gp(\n",
    "    key=subkey,\n",
    "    n_imgs=N_FUNCTIONS,\n",
    "    domain=DOMAIN,\n",
    "    grid_steps=N_POINTS,\n",
    "    rho=RHO,\n",
    "    sigma=SIGMA,\n",
    ")\n",
    "\n",
    "print(x.shape, y.shape)"
   ]
  },
  {
   "cell_type": "code",
   "execution_count": 13,
   "metadata": {
    "execution": {
     "iopub.execute_input": "2024-04-19T12:19:49.432206Z",
     "iopub.status.busy": "2024-04-19T12:19:49.432061Z",
     "iopub.status.idle": "2024-04-19T12:19:49.434126Z",
     "shell.execute_reply": "2024-04-19T12:19:49.433834Z"
    }
   },
   "outputs": [],
   "source": [
    "y_norm, _, _ = normalize(y, NORM_SCALE)"
   ]
  },
  {
   "cell_type": "code",
   "execution_count": 14,
   "metadata": {
    "execution": {
     "iopub.execute_input": "2024-04-19T12:19:49.435578Z",
     "iopub.status.busy": "2024-04-19T12:19:49.435303Z",
     "iopub.status.idle": "2024-04-19T12:19:49.437794Z",
     "shell.execute_reply": "2024-04-19T12:19:49.437509Z"
    }
   },
   "outputs": [],
   "source": [
    "tensor_x, tensor_y = torch.Tensor(x), torch.Tensor(y_norm)\n",
    "\n",
    "dataset = TensorDataset(tensor_x, tensor_y)\n",
    "\n",
    "train_set, test_set = random_split(dataset, [SPLIT, 1 - SPLIT], generator=torch.Generator().manual_seed(SEED + 1))\n",
    "\n",
    "train_loader = DataLoader(train_set, batch_size=BATCH_SIZE, shuffle=True)\n",
    "test_loader = DataLoader(test_set, batch_size=BATCH_SIZE, shuffle=True)"
   ]
  },
  {
   "cell_type": "code",
   "execution_count": 15,
   "metadata": {
    "execution": {
     "iopub.execute_input": "2024-04-19T12:19:49.439269Z",
     "iopub.status.busy": "2024-04-19T12:19:49.438980Z",
     "iopub.status.idle": "2024-04-19T12:19:49.461189Z",
     "shell.execute_reply": "2024-04-19T12:19:49.460702Z"
    }
   },
   "outputs": [
    {
     "name": "stdout",
     "output_type": "stream",
     "text": [
      "(64, 64, 1) (64, 64, 1)\n"
     ]
    }
   ],
   "source": [
    "dummy_x, dummy_y = next(iter(train_loader))\n",
    "\n",
    "dummy_x, dummy_y = dummy_x.numpy(), dummy_y.numpy()\n",
    "\n",
    "print(dummy_x.shape, dummy_y.shape)"
   ]
  },
  {
   "cell_type": "code",
   "execution_count": 16,
   "metadata": {
    "execution": {
     "iopub.execute_input": "2024-04-19T12:19:49.463053Z",
     "iopub.status.busy": "2024-04-19T12:19:49.462904Z",
     "iopub.status.idle": "2024-04-19T12:19:49.783793Z",
     "shell.execute_reply": "2024-04-19T12:19:49.783317Z"
    }
   },
   "outputs": [
    {
     "name": "stdout",
     "output_type": "stream",
     "text": [
      "CNP(\n",
      "  layers=[\n",
      "    MLP(\n",
      "      layers=[\n",
      "        Linear(\n",
      "          weight=f32[128,2],\n",
      "          bias=f32[128],\n",
      "          in_features=2,\n",
      "          out_features=128,\n",
      "          use_bias=True\n",
      "        ),\n",
      "        <wrapped function tanh>,\n",
      "        Linear(\n",
      "          weight=f32[128,128],\n",
      "          bias=f32[128],\n",
      "          in_features=128,\n",
      "          out_features=128,\n",
      "          use_bias=True\n",
      "        ),\n",
      "        <wrapped function tanh>,\n",
      "        Linear(\n",
      "          weight=f32[128,128],\n",
      "          bias=f32[128],\n",
      "          in_features=128,\n",
      "          out_features=128,\n",
      "          use_bias=True\n",
      "        )\n",
      "      ]\n",
      "    ),\n",
      "    MLP(\n",
      "      layers=[\n",
      "        Linear(\n",
      "          weight=f32[128,129],\n",
      "          bias=f32[128],\n",
      "          in_features=129,\n",
      "          out_features=128,\n",
      "          use_bias=True\n",
      "        ),\n",
      "        <wrapped function tanh>,\n",
      "        Linear(\n",
      "          weight=f32[128,128],\n",
      "          bias=f32[128],\n",
      "          in_features=128,\n",
      "          out_features=128,\n",
      "          use_bias=True\n",
      "        ),\n",
      "        <wrapped function tanh>,\n",
      "        Linear(\n",
      "          weight=f32[128,128],\n",
      "          bias=f32[128],\n",
      "          in_features=128,\n",
      "          out_features=128,\n",
      "          use_bias=True\n",
      "        ),\n",
      "        <wrapped function tanh>,\n",
      "        Linear(\n",
      "          weight=f32[2,128],\n",
      "          bias=f32[2],\n",
      "          in_features=128,\n",
      "          out_features=2,\n",
      "          use_bias=True\n",
      "        )\n",
      "      ]\n",
      "    )\n",
      "  ]\n",
      ")\n"
     ]
    }
   ],
   "source": [
    "key, *subkeys = jax.random.split(key, 3)\n",
    "encoder = MLP(ENCODER_LAYERS, subkeys[0])\n",
    "decoder = MLP(DECODER_LAYERS, subkeys[1])\n",
    "\n",
    "model = CNP(encoder, decoder)\n",
    "\n",
    "print(model)"
   ]
  },
  {
   "cell_type": "code",
   "execution_count": 17,
   "metadata": {
    "execution": {
     "iopub.execute_input": "2024-04-19T12:19:49.785552Z",
     "iopub.status.busy": "2024-04-19T12:19:49.785445Z",
     "iopub.status.idle": "2024-04-19T12:19:49.787430Z",
     "shell.execute_reply": "2024-04-19T12:19:49.787119Z"
    }
   },
   "outputs": [],
   "source": [
    "optim = optax.adamw(LEARNING_RATE)"
   ]
  },
  {
   "cell_type": "code",
   "execution_count": 18,
   "metadata": {
    "execution": {
     "iopub.execute_input": "2024-04-19T12:19:49.788594Z",
     "iopub.status.busy": "2024-04-19T12:19:49.788365Z",
     "iopub.status.idle": "2024-04-19T12:20:12.486380Z",
     "shell.execute_reply": "2024-04-19T12:20:12.486024Z"
    }
   },
   "outputs": [
    {
     "data": {
      "image/png": "[encoded data removed]",
      "text/plain": [
       "<Figure size 700x500 with 1 Axes>"
      ]
     },
     "metadata": {},
     "output_type": "display_data"
    },
    {
     "name": "stdout",
     "output_type": "stream",
     "text": [
      "\n",
      "*** Profile printout saved to text file 'lprof/lprofCPU1.txt'. \n"
     ]
    },
    {
     "name": "stdout",
     "output_type": "stream",
     "text": [
      "Timer unit: 1e-09 s\n",
      "\n",
      "Total time: 108.297 s\n",
      "File: /tmp/ipykernel_7718/1309608700.py\n",
      "Function: train at line 1\n",
      "\n",
      "Line #      Hits         Time  Per Hit   % Time  Line Contents\n",
      "==============================================================\n",
      "     1                                           def train(\n",
      "     2                                                   key: jax.random.PRNGKey,\n",
      "     3                                                   model: CNP,\n",
      "     4                                                   train_loader: DataLoader,\n",
      "     5                                                   test_loader: DataLoader,\n",
      "     6                                                   optim: optax.GradientTransformation,\n",
      "     7                                                   n_context: Int,\n",
      "     8                                                   n_target: Int,\n",
      "     9                                                   epochs: Int,\n",
      "    10                                                   plot_every: Int,\n",
      "    11                                           ) -> CNP:\n",
      "    12                                           \n",
      "    13         1  185457796.0    2e+08      0.2      opt_state = optim.init(eqx.filter(model, eqx.is_array))\n",
      "    14                                           \n",
      "    15         1       3094.0   3094.0      0.0      @eqx.filter_jit\n",
      "    16         8     907594.0 113449.2      0.0      def make_step(\n",
      "    17         1        395.0    395.0      0.0          model: CNP,\n",
      "    18         1       1169.0   1169.0      0.0          opt_state: PyTree,\n",
      "    19         1      97482.0  97482.0      0.0          x_context: Float[Array, \"batch n_context 1\"],\n",
      "    20         1      21411.0  21411.0      0.0          y_context: Float[Array, \"batch n_context 1\"],\n",
      "    21         1      15802.0  15802.0      0.0          x_target: Float[Array, \"batch n_target 1\"],\n",
      "    22         1      13525.0  13525.0      0.0          y_target: Float[Array, \"batch n_target 1\"],\n",
      "    23         1      78643.0  78643.0      0.0      ) -> Tuple[CNP, PyTree, Float]:\n",
      "    24                                           \n",
      "    25                                                   loss_value, grads = loss_and_grad(\n",
      "    26                                                       model,\n",
      "    27                                                       x_context,\n",
      "    28                                                       y_context,\n",
      "    29                                                       x_target,\n",
      "    30                                                       y_target,\n",
      "    31                                                   )\n",
      "    32                                                   updates, opt_state = optim.update(grads, opt_state, model)\n",
      "    33                                                   model = eqx.apply_updates(model, updates)\n",
      "    34                                           \n",
      "    35                                                   return model, opt_state, loss_value\n",
      "    36                                           \n",
      "    37         1        226.0    226.0      0.0      train_losses = []\n",
      "    38         1         81.0     81.0      0.0      test_losses = []\n",
      "    39         1         88.0     88.0      0.0      plot_epochs = []\n",
      "    40                                           \n",
      "    41                                               # Create a function to update the loss plot\n",
      "    42         1        996.0    996.0      0.0      def update_loss_plot(train_losses, test_losses, plot_epochs):\n",
      "    43                                                   clear_output(wait=True)\n",
      "    44                                                   plt.figure(figsize=(7, 5))\n",
      "    45                                                   plt.plot(plot_epochs, train_losses, 'o-', markevery=[-1], label='train_loss')\n",
      "    46                                                   plt.plot(plot_epochs, test_losses, 'o-', markevery=[-1], label='test_loss')\n",
      "    47                                                   plt.xlim([0, epochs])\n",
      "    48                                                   plt.xlabel('Epoch')\n",
      "    49                                                   plt.ylabel('Loss')\n",
      "    50                                                   plt.legend()\n",
      "    51                                                   plt.title('Loss')\n",
      "    52                                                   plt.grid(True)\n",
      "    53                                                   plt.show()\n",
      "    54                                           \n",
      "    55       201     280053.0   1393.3      0.0      for epoch in range(epochs):\n",
      "    56       200      66738.0    333.7      0.0          epoch_loss = 0\n",
      "    57                                           \n",
      "    58      2800 3659838173.0    1e+06      3.4          for (x, y) in train_loader:\n",
      "    59      2600  100190781.0  38534.9      0.1              x, y = x.numpy(), y.numpy()\n",
      "    60                                           \n",
      "    61      2600 1457820035.0 560700.0      1.3              key, *subkeys = jax.random.split(key, 3)\n",
      "    62      2600 3246768330.0    1e+06      3.0              x_context, y_context, x_target, y_target = split_data(subkeys, x, y, n_context, n_target)\n",
      "    63                                           \n",
      "    64      5200        9e+10    2e+07     85.4              model, opt_state, train_loss = make_step(\n",
      "    65      2600    2067881.0    795.3      0.0                  model,\n",
      "    66      2600     974379.0    374.8      0.0                  opt_state,\n",
      "    67      2600     538541.0    207.1      0.0                  x_context,\n",
      "    68      2600     518373.0    199.4      0.0                  y_context,\n",
      "    69      2600     640493.0    246.3      0.0                  x_target,\n",
      "    70      2600     453840.0    174.6      0.0                  y_target,\n",
      "    71                                                       )\n",
      "    72      2600  319617052.0 122929.6      0.3              epoch_loss += train_loss.item()\n",
      "    73                                           \n",
      "    74       200    7802013.0  39010.1      0.0          avg_epoch_loss = epoch_loss / len(train_loader)\n",
      "    75                                           \n",
      "    76       200     593559.0   2967.8      0.0          if (epoch % plot_every) == 0:\n",
      "    77        20   10592870.0 529643.5      0.0              key, subkey = jax.random.split(key, 2)\n",
      "    78        20 1508857417.0    8e+07      1.4              test_loss = evaluate(subkey, model, test_loader, n_context, n_target)\n",
      "    79        20      55249.0   2762.4      0.0              train_losses.append(avg_epoch_loss)\n",
      "    80        20      20066.0   1003.3      0.0              test_losses.append(test_loss)\n",
      "    81        20      18329.0    916.5      0.0              plot_epochs.append(epoch)\n",
      "    82        20 5315092523.0    3e+08      4.9              update_loss_plot(train_losses, test_losses, plot_epochs)\n",
      "    83                                           \n",
      "    84         1        260.0    260.0      0.0      return model"
     ]
    }
   ],
   "source": [
    "key, subkey = jax.random.split(key, 2)\n",
    "\n",
    "%lprun -T lprof/lprofCPU1.txt -f train train(subkey, model, train_loader, test_loader, optim, N_CONTEXT, N_TARGET, EPOCHS, PLOT_EVERY)"
   ]
  },
  {
   "cell_type": "markdown",
   "metadata": {},
   "source": [
    "With CPU:\n",
    "\n",
    "for (x, y) ...: 3.9\n",
    "\n",
    "split_data: 2.3\n",
    "\n",
    "make_step: 85.1\n",
    "\n",
    "update_loss_plot: 6.3"
   ]
  },
  {
   "cell_type": "code",
   "execution_count": 19,
   "metadata": {
    "execution": {
     "iopub.execute_input": "2024-04-19T12:20:12.488121Z",
     "iopub.status.busy": "2024-04-19T12:20:12.488036Z",
     "iopub.status.idle": "2024-04-19T12:20:12.489738Z",
     "shell.execute_reply": "2024-04-19T12:20:12.489514Z"
    }
   },
   "outputs": [],
   "source": [
    "# key, subkey = jax.random.split(key, 2)\n",
    "\n",
    "# model = train(\n",
    "#     key,\n",
    "#     model,\n",
    "#     train_loader,\n",
    "#     test_loader,\n",
    "#     optim,\n",
    "#     N_CONTEXT,\n",
    "#     N_TARGET,\n",
    "#     EPOCHS,\n",
    "#     PLOT_EVERY,\n",
    "# )"
   ]
  },
  {
   "cell_type": "code",
   "execution_count": 20,
   "metadata": {
    "execution": {
     "iopub.execute_input": "2024-04-19T12:20:12.490974Z",
     "iopub.status.busy": "2024-04-19T12:20:12.490900Z",
     "iopub.status.idle": "2024-04-19T12:20:12.621265Z",
     "shell.execute_reply": "2024-04-19T12:20:12.620851Z"
    }
   },
   "outputs": [],
   "source": [
    "key, subkey = jax.random.split(key, 2)\n",
    "x_test, y_test = sample_gp(subkey, 1, DOMAIN, N_POINTS, 1.0, 2.0)\n",
    "\n",
    "key, *subkeys = jax.random.split(key, 3)\n",
    "x_test_context, y_test_context, _, _ = split_data(subkeys, x_test, y_test, N_CONTEXT, N_POINTS)"
   ]
  },
  {
   "cell_type": "code",
   "execution_count": 21,
   "metadata": {
    "execution": {
     "iopub.execute_input": "2024-04-19T12:20:12.623421Z",
     "iopub.status.busy": "2024-04-19T12:20:12.623334Z",
     "iopub.status.idle": "2024-04-19T12:20:12.838327Z",
     "shell.execute_reply": "2024-04-19T12:20:12.837916Z"
    }
   },
   "outputs": [],
   "source": [
    "y_preds = model(x_test_context, y_test_context, x_test)\n",
    "\n",
    "y_mu = jnp.squeeze(y_preds.mean)\n",
    "y_sigma = jnp.squeeze(jnp.sqrt(y_preds.variance))"
   ]
  },
  {
   "cell_type": "code",
   "execution_count": 22,
   "metadata": {
    "execution": {
     "iopub.execute_input": "2024-04-19T12:20:12.840269Z",
     "iopub.status.busy": "2024-04-19T12:20:12.840120Z",
     "iopub.status.idle": "2024-04-19T12:20:12.989194Z",
     "shell.execute_reply": "2024-04-19T12:20:12.988757Z"
    }
   },
   "outputs": [
    {
     "data": {
      "image/png": "[encoded data removed]",
      "text/plain": [
       "<Figure size 700x400 with 1 Axes>"
      ]
     },
     "metadata": {},
     "output_type": "display_data"
    }
   ],
   "source": [
    "x_plot = np.squeeze(x_test)\n",
    "\n",
    "fig, ax = plt.subplots(figsize=(7, 4))\n",
    "\n",
    "ax.scatter(x_plot, jnp.squeeze(y_test), label=\"true\")\n",
    "ax.scatter(x_test_context, y_test_context, label=\"context\")\n",
    "ax.plot(x_plot, y_mu, c='k', label='mu')\n",
    "ax.fill_between(x_plot, y_mu - y_sigma, y_mu + y_sigma, color='grey', alpha=0.5, label=\"+- sigma\")\n",
    "\n",
    "ax.legend()\n",
    "\n",
    "plt.show()"
   ]
  },
  {
   "cell_type": "code",
   "execution_count": null,
   "metadata": {},
   "outputs": [],
   "source": []
  }
 ],
 "metadata": {
  "kernelspec": {
   "display_name": "venv",
   "language": "python",
   "name": "python3"
  },
  "language_info": {
   "codemirror_mode": {
    "name": "ipython",
    "version": 3
   },
   "file_extension": ".py",
   "mimetype": "text/x-python",
   "name": "python",
   "nbconvert_exporter": "python",
   "pygments_lexer": "ipython3",
   "version": "3.10.12"
  }
 },
 "nbformat": 4,
 "nbformat_minor": 2
}
