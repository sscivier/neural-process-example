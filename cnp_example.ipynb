{
 "cells": [
  {
   "cell_type": "code",
   "execution_count": 1,
   "metadata": {
    "execution": {
     "iopub.execute_input": "2024-04-19T15:32:27.173061Z",
     "iopub.status.busy": "2024-04-19T15:32:27.172712Z",
     "iopub.status.idle": "2024-04-19T15:32:28.224677Z",
     "shell.execute_reply": "2024-04-19T15:32:28.224220Z"
    }
   },
   "outputs": [
    {
     "name": "stderr",
     "output_type": "stream",
     "text": [
      "/disks/data/SAM/neural-process-example/venv/lib/python3.10/site-packages/tqdm/auto.py:21: TqdmWarning: IProgress not found. Please update jupyter and ipywidgets. See https://ipywidgets.readthedocs.io/en/stable/user_install.html\n",
      "  from .autonotebook import tqdm as notebook_tqdm\n"
     ]
    }
   ],
   "source": [
    "import numpy as np\n",
    "import matplotlib.pyplot as plt\n",
    "\n",
    "import jax\n",
    "import jax.numpy as jnp\n",
    "\n",
    "import equinox as eqx\n",
    "import optax\n",
    "\n",
    "import numpyro.distributions as dist\n",
    "\n",
    "import torch\n",
    "from torch.utils.data import TensorDataset, DataLoader, random_split\n",
    "\n",
    "from IPython.display import clear_output\n",
    "\n",
    "from typing import List, Tuple\n",
    "from jaxtyping import Int, Array, Float, PyTree"
   ]
  },
  {
   "cell_type": "code",
   "execution_count": 2,
   "metadata": {
    "execution": {
     "iopub.execute_input": "2024-04-19T15:32:28.226666Z",
     "iopub.status.busy": "2024-04-19T15:32:28.226535Z",
     "iopub.status.idle": "2024-04-19T15:32:28.229400Z",
     "shell.execute_reply": "2024-04-19T15:32:28.229107Z"
    }
   },
   "outputs": [],
   "source": [
    "%load_ext line_profiler"
   ]
  },
  {
   "cell_type": "code",
   "execution_count": 3,
   "metadata": {
    "execution": {
     "iopub.execute_input": "2024-04-19T15:32:28.230994Z",
     "iopub.status.busy": "2024-04-19T15:32:28.230856Z",
     "iopub.status.idle": "2024-04-19T15:32:28.233883Z",
     "shell.execute_reply": "2024-04-19T15:32:28.233631Z"
    }
   },
   "outputs": [],
   "source": [
    "# Defining the MLP model, to be used as a batch MLP\n",
    "# Inherit the eqx.Module class\n",
    "\n",
    "class MLP(eqx.Module):\n",
    "\n",
    "    layers: List\n",
    "\n",
    "    def __init__(\n",
    "        self,\n",
    "        layer_sizes: List,\n",
    "        key: jax.random.PRNGKey,\n",
    "    ):\n",
    "\n",
    "        self.layers = []\n",
    "\n",
    "        for (feat_in, feat_out) in zip(layer_sizes[:-2], layer_sizes[1:-1]):\n",
    "            key, subkey = jax.random.split(key)\n",
    "\n",
    "            self.layers.append(\n",
    "                eqx.nn.Linear(feat_in, feat_out, use_bias=True, key=subkey)\n",
    "            )  # fully-connected layer\n",
    "            self.layers.append(\n",
    "                jnp.tanh\n",
    "            )  # activation function\n",
    "\n",
    "        key, subkey = jax.random.split(key)\n",
    "\n",
    "        self.layers.append(\n",
    "            eqx.nn.Linear(layer_sizes[-2], layer_sizes[-1], use_bias=True, key=subkey)\n",
    "        )  # final layer\n",
    "\n",
    "    # __call__ turns an instance of this class into a callable object, which behaves like a function\n",
    "    def __call__(\n",
    "        self,\n",
    "        x: Float[Array, \"1 1\"],\n",
    "    ) -> Float[Array, \"1 1\"]:\n",
    "\n",
    "        # apply each layer in sequence\n",
    "        for layer in self.layers:\n",
    "            x = layer(x)\n",
    "\n",
    "        return x"
   ]
  },
  {
   "cell_type": "code",
   "execution_count": 4,
   "metadata": {
    "execution": {
     "iopub.execute_input": "2024-04-19T15:32:28.235384Z",
     "iopub.status.busy": "2024-04-19T15:32:28.235304Z",
     "iopub.status.idle": "2024-04-19T15:32:28.239455Z",
     "shell.execute_reply": "2024-04-19T15:32:28.239215Z"
    }
   },
   "outputs": [],
   "source": [
    "class CNP(eqx.Module):\n",
    "\n",
    "    layers: list\n",
    "\n",
    "    def __init__(\n",
    "            self,\n",
    "            encoder: MLP,\n",
    "            decoder: MLP,\n",
    "    ):\n",
    "\n",
    "        self.layers = [encoder, decoder]\n",
    "\n",
    "\n",
    "    def __call__(\n",
    "            self,\n",
    "            x_context: Float[Array, \"batch n_context 1\"],\n",
    "            y_context: Float[Array, \"batch n_context 1\"],\n",
    "            x_target: Float[Array, \"batch n_target 1\"],\n",
    "    ) -> dist.Distribution:\n",
    "\n",
    "        # get number of target points\n",
    "        _, n_target, _ = x_target.shape\n",
    "\n",
    "        # encoder step\n",
    "        encoded_rep = self._encode(x_context, y_context)  # (batch_size, 1, encoder_dim)\n",
    "\n",
    "        # tile sample before passing to the decoder\n",
    "        representation = self._tile(encoded_rep, n_target)  # (batch_size, n_target, encoder_dim)\n",
    "\n",
    "        # decoder step to produce distribution of functions\n",
    "        distribution = self._decode(representation, x_target)\n",
    "\n",
    "        return distribution\n",
    "\n",
    "\n",
    "    def _encode(\n",
    "            self,\n",
    "            x_context: Float[Array, \"batch n_context 1\"],\n",
    "            y_context: Float[Array, \"batch n_context 1\"],\n",
    "    ) -> dist.Distribution:\n",
    "\n",
    "        xy_context = jnp.concatenate([x_context, y_context], axis=-1)  # (batch_size, n_context, 2)\n",
    "\n",
    "        return jnp.mean(self._encode_mlp(xy_context), axis=1, keepdims=True)  # (batch_size, 1, encoder_dim)\n",
    "\n",
    "\n",
    "    def _encode_mlp(\n",
    "            self,\n",
    "            xy_context: Float[Array, \"batch n_context 2\"],\n",
    "    ) -> Float[Array, \"batch n_context encoder_dim\"]:\n",
    "\n",
    "        return jax.vmap(jax.vmap(self.layers[0]))(xy_context)\n",
    "\n",
    "\n",
    "    def _tile(\n",
    "            self,\n",
    "            z_latent: Float[Array, \"batch 1 encoder_dim\"],\n",
    "            n_target: Int,\n",
    "    ) -> Float[Array, \"batch n_target encoder_dim\"]:\n",
    "\n",
    "        return jnp.tile(z_latent, [1, n_target, 1])\n",
    "\n",
    "\n",
    "    def _decode(\n",
    "            self,\n",
    "            representation: Float[Array, \"batch n_target encoder_dim\"],\n",
    "            x_target: Float[Array, \"batch n_target 1\"],\n",
    "    ) -> dist.Distribution:\n",
    "\n",
    "        representation = jnp.concatenate([representation, x_target], axis=-1)  # (batch_size, n_target, encoder_dim + 1)\n",
    "\n",
    "        mlp_out = jax.vmap(jax.vmap(self.layers[1]))(representation)  # (batch_size, n_target, 1)\n",
    "\n",
    "        mu, sigma = jnp.split(mlp_out, 2, axis=-1)  # each (batch_size, n_target, 1)\n",
    "\n",
    "        sigma = 0.1 + 0.9 * jax.nn.softplus(sigma)\n",
    "\n",
    "        return dist.Normal(loc=mu, scale=sigma)"
   ]
  },
  {
   "cell_type": "code",
   "execution_count": 5,
   "metadata": {
    "execution": {
     "iopub.execute_input": "2024-04-19T15:32:28.240517Z",
     "iopub.status.busy": "2024-04-19T15:32:28.240376Z",
     "iopub.status.idle": "2024-04-19T15:32:28.243366Z",
     "shell.execute_reply": "2024-04-19T15:32:28.243081Z"
    }
   },
   "outputs": [],
   "source": [
    "def loss(\n",
    "        model: CNP,\n",
    "        x_context: Float[Array, \"batch n_context 1\"],\n",
    "        y_context: Float[Array, \"batch n_context 1\"],\n",
    "        x_target: Float[Array, \"batch n_context 1\"],\n",
    "        y_target: Float[Array, \"batch n_context 1\"],\n",
    ") -> Float[Array, \"\"]:\n",
    "\n",
    "    distribution = model(x_context, y_context, x_target)\n",
    "\n",
    "    return - np.mean(distribution.log_prob(y_target))\n",
    "\n",
    "loss_and_grad = eqx.filter_value_and_grad(loss)\n",
    "\n",
    "loss = eqx.filter_jit(loss)"
   ]
  },
  {
   "cell_type": "code",
   "execution_count": 6,
   "metadata": {
    "execution": {
     "iopub.execute_input": "2024-04-19T15:32:28.244339Z",
     "iopub.status.busy": "2024-04-19T15:32:28.244260Z",
     "iopub.status.idle": "2024-04-19T15:32:28.247356Z",
     "shell.execute_reply": "2024-04-19T15:32:28.247072Z"
    }
   },
   "outputs": [],
   "source": [
    "@eqx.filter_jit\n",
    "def split_data(\n",
    "    keys: List[jax.random.PRNGKey],\n",
    "    x: Float[Array, \"batch n_points 1\"],\n",
    "    y: Float[Array, \"batch n_points 1\"],\n",
    "    n_context: Int,\n",
    "    n_target: Int,\n",
    ") -> Tuple[Float[Array, \"batch n_context 1\"], Float[Array, \"batch n_context 1\"], Float[Array, \"batch n_target 1\"], Float[Array, \"batch n_target 1\"]]:\n",
    "\n",
    "    # def choose_values(\n",
    "    #     key: jax.random.PRNGKey,\n",
    "    #     arr: Array,\n",
    "    #     n: Int,\n",
    "    # ) -> Array:\n",
    "\n",
    "    #     rows, cols = arr.shape[0], arr.shape[1]\n",
    "\n",
    "    #     chosen_values = np.zeros((rows, n, arr.shape[2]))\n",
    "\n",
    "    #     for i in range(rows):\n",
    "    #         indices = jax.random.choice(key, cols, (n,), False)\n",
    "    #         chosen_values[i] = arr[i, indices, :]\n",
    "\n",
    "    #     return chosen_values\n",
    "\n",
    "    def choose_values(\n",
    "            key: jax.random.PRNGKey,\n",
    "            arr: Array,\n",
    "            n: Int,\n",
    "    ) -> Array:\n",
    "\n",
    "        cols = arr.shape[1]\n",
    "\n",
    "        indices = jax.random.choice(key, cols, (n,), False)\n",
    "\n",
    "        return arr[:, indices, :]\n",
    "\n",
    "    x_context = choose_values(keys[0], x, n_context)\n",
    "    y_context = choose_values(keys[0], y, n_context)\n",
    "    x_target = choose_values(keys[1], x, n_target)\n",
    "    y_target = choose_values(keys[1], y, n_target)\n",
    "\n",
    "    return x_context, y_context, x_target, y_target"
   ]
  },
  {
   "cell_type": "code",
   "execution_count": 7,
   "metadata": {
    "execution": {
     "iopub.execute_input": "2024-04-19T15:32:28.248452Z",
     "iopub.status.busy": "2024-04-19T15:32:28.248235Z",
     "iopub.status.idle": "2024-04-19T15:32:28.250461Z",
     "shell.execute_reply": "2024-04-19T15:32:28.250168Z"
    }
   },
   "outputs": [],
   "source": [
    "def evaluate(\n",
    "        key: jax.random.PRNGKey,\n",
    "        model: CNP,\n",
    "        test_loader: DataLoader,\n",
    "        n_context: Int,\n",
    "        n_target: Int,\n",
    ") -> Float[Array, \"\"]:\n",
    "\n",
    "    tot_loss = 0\n",
    "\n",
    "    for (x, y) in test_loader:\n",
    "        x, y = x.numpy(), y.numpy()\n",
    "\n",
    "        key, *subkeys = jax.random.split(key, 3)\n",
    "        x_context, y_context, x_target, y_target = split_data(subkeys, x, y, n_context, n_target)\n",
    "\n",
    "        tot_loss += loss(model, x_context, y_context, x_target, y_target)\n",
    "\n",
    "    return tot_loss / len(test_loader)"
   ]
  },
  {
   "cell_type": "code",
   "execution_count": 8,
   "metadata": {
    "execution": {
     "iopub.execute_input": "2024-04-19T15:32:28.251624Z",
     "iopub.status.busy": "2024-04-19T15:32:28.251393Z",
     "iopub.status.idle": "2024-04-19T15:32:28.255662Z",
     "shell.execute_reply": "2024-04-19T15:32:28.255370Z"
    }
   },
   "outputs": [],
   "source": [
    "def train(\n",
    "        key: jax.random.PRNGKey,\n",
    "        model: CNP,\n",
    "        train_loader: DataLoader,\n",
    "        test_loader: DataLoader,\n",
    "        optim: optax.GradientTransformation,\n",
    "        n_context: Int,\n",
    "        n_target: Int,\n",
    "        epochs: Int,\n",
    "        plot_every: Int,\n",
    ") -> CNP:\n",
    "\n",
    "    opt_state = optim.init(eqx.filter(model, eqx.is_array))\n",
    "\n",
    "    @eqx.filter_jit\n",
    "    def make_step(\n",
    "        model: CNP,\n",
    "        opt_state: PyTree,\n",
    "        x_context: Float[Array, \"batch n_context 1\"],\n",
    "        y_context: Float[Array, \"batch n_context 1\"],\n",
    "        x_target: Float[Array, \"batch n_target 1\"],\n",
    "        y_target: Float[Array, \"batch n_target 1\"],\n",
    "    ) -> Tuple[CNP, PyTree, Float]:\n",
    "\n",
    "        loss_value, grads = loss_and_grad(\n",
    "            model,\n",
    "            x_context,\n",
    "            y_context,\n",
    "            x_target,\n",
    "            y_target,\n",
    "        )\n",
    "        updates, opt_state = optim.update(grads, opt_state, model)\n",
    "        model = eqx.apply_updates(model, updates)\n",
    "\n",
    "        return model, opt_state, loss_value\n",
    "\n",
    "    train_losses = []\n",
    "    test_losses = []\n",
    "    plot_epochs = []\n",
    "\n",
    "    # Create a function to update the loss plot\n",
    "    def update_loss_plot(train_losses, test_losses, plot_epochs):\n",
    "        clear_output(wait=True)\n",
    "        plt.figure(figsize=(7, 5))\n",
    "        plt.plot(plot_epochs, train_losses, 'o-', markevery=[-1], label='train_loss')\n",
    "        plt.plot(plot_epochs, test_losses, 'o-', markevery=[-1], label='test_loss')\n",
    "        plt.xlim([0, epochs])\n",
    "        plt.xlabel('Epoch')\n",
    "        plt.ylabel('Loss')\n",
    "        plt.legend()\n",
    "        plt.title('Loss')\n",
    "        plt.grid(True)\n",
    "        plt.show()\n",
    "\n",
    "    for epoch in range(epochs):\n",
    "        epoch_loss = 0\n",
    "\n",
    "        for (x, y) in train_loader:\n",
    "            x, y = x.numpy(), y.numpy()\n",
    "\n",
    "            key, *subkeys = jax.random.split(key, 3)\n",
    "            x_context, y_context, x_target, y_target = split_data(subkeys, x, y, n_context, n_target)\n",
    "\n",
    "            model, opt_state, train_loss = make_step(\n",
    "                model,\n",
    "                opt_state,\n",
    "                x_context,\n",
    "                y_context,\n",
    "                x_target,\n",
    "                y_target,\n",
    "            )\n",
    "            epoch_loss += train_loss.item()\n",
    "\n",
    "        avg_epoch_loss = epoch_loss / len(train_loader)\n",
    "\n",
    "        if (epoch % plot_every) == 0:\n",
    "            key, subkey = jax.random.split(key, 2)\n",
    "            test_loss = evaluate(subkey, model, test_loader, n_context, n_target)\n",
    "            train_losses.append(avg_epoch_loss)\n",
    "            test_losses.append(test_loss)\n",
    "            plot_epochs.append(epoch)\n",
    "            update_loss_plot(train_losses, test_losses, plot_epochs)\n",
    "\n",
    "    return model"
   ]
  },
  {
   "cell_type": "code",
   "execution_count": 9,
   "metadata": {
    "execution": {
     "iopub.execute_input": "2024-04-19T15:32:28.256717Z",
     "iopub.status.busy": "2024-04-19T15:32:28.256593Z",
     "iopub.status.idle": "2024-04-19T15:32:28.259843Z",
     "shell.execute_reply": "2024-04-19T15:32:28.259559Z"
    }
   },
   "outputs": [],
   "source": [
    "def exponentiated_quadratic_kernel(\n",
    "    x: Array,\n",
    "    y: Array,\n",
    "    sigma: Float=1.0,\n",
    "    rho: Float=1.0,\n",
    ") -> Array:\n",
    "\n",
    "    def _exponentiated_quadratic(x, y, sigma, rho):\n",
    "        x_e = jnp.expand_dims(x, 1) / rho\n",
    "        y_e = jnp.expand_dims(y, 0) / rho\n",
    "        d = jnp.sum(jnp.square(x_e - y_e), axis=-1)\n",
    "        K = sigma * jnp.exp(-0.5 * d)\n",
    "        return K\n",
    "\n",
    "    return _exponentiated_quadratic(x, y, sigma, rho)\n",
    "\n",
    "\n",
    "def sample_gp(\n",
    "    key: jax.random.PRNGKey,\n",
    "    n_imgs: int,\n",
    "    domain: float,\n",
    "    grid_steps: int,\n",
    "    rho: float,\n",
    "    sigma: float,\n",
    ") -> Tuple[\n",
    "    Tuple[np.ndarray, np.ndarray],\n",
    "    np.ndarray\n",
    "    ]:\n",
    "\n",
    "    # generate array between -pi to pi with grid_steps no. of points\n",
    "    x = jnp.linspace(-domain, domain, grid_steps).reshape(\n",
    "        (grid_steps, 1)\n",
    "    )\n",
    "\n",
    "    ys = []\n",
    "    for _ in range(n_imgs):\n",
    "        key, *subkeys = jax.random.split(key, 3)\n",
    "\n",
    "        K = exponentiated_quadratic_kernel(x, x, sigma, rho)\n",
    "\n",
    "        y = jax.random.multivariate_normal(\n",
    "            subkeys[0],\n",
    "            mean=jnp.zeros(grid_steps),\n",
    "            cov=K + jnp.diag(jnp.ones(grid_steps)) * np.mean(np.abs(K)) * 1e-5,\n",
    "        )\n",
    "        ys.append(y.reshape((1, grid_steps, 1)))\n",
    "\n",
    "    # repeat x along first axis n_imgs times\n",
    "    x = np.array(jnp.tile(x, [n_imgs, 1, 1]))  # shape (n_imgs, grid_steps ** 2, 1)\n",
    "    y = np.array(jnp.vstack(jnp.array(ys)))  # shape (n_imgs, grid_steps ** 2, 1)\n",
    "\n",
    "    return x, y"
   ]
  },
  {
   "cell_type": "code",
   "execution_count": 10,
   "metadata": {
    "execution": {
     "iopub.execute_input": "2024-04-19T15:32:28.260850Z",
     "iopub.status.busy": "2024-04-19T15:32:28.260738Z",
     "iopub.status.idle": "2024-04-19T15:32:28.262835Z",
     "shell.execute_reply": "2024-04-19T15:32:28.262557Z"
    }
   },
   "outputs": [],
   "source": [
    "def normalize(arr, n):\n",
    "    min_val = np.min(arr)\n",
    "    max_val = np.max(arr)\n",
    "    normalized_arr = 2 * n * (arr - min_val) / (max_val - min_val) - n\n",
    "    return normalized_arr, min_val, max_val\n",
    "\n",
    "def unnormalize(normalized_arr, min_val, max_val, n):\n",
    "    arr = 0.5 * (normalized_arr + n) * (max_val - min_val) / n + min_val\n",
    "    return arr\n",
    "\n",
    "def unnormalize_std(normalized_std, min_val, max_val, n):\n",
    "    std = normalized_std * (max_val - min_val) / (2 * n)\n",
    "    return std"
   ]
  },
  {
   "cell_type": "code",
   "execution_count": 11,
   "metadata": {
    "execution": {
     "iopub.execute_input": "2024-04-19T15:32:28.263864Z",
     "iopub.status.busy": "2024-04-19T15:32:28.263730Z",
     "iopub.status.idle": "2024-04-19T15:32:28.293279Z",
     "shell.execute_reply": "2024-04-19T15:32:28.292930Z"
    }
   },
   "outputs": [
    {
     "name": "stderr",
     "output_type": "stream",
     "text": [
      "CUDA backend failed to initialize: jaxlib/cuda/versions_helpers.cc:98: operation cuInit(0) failed: CUDA_ERROR_COMPAT_NOT_SUPPORTED_ON_DEVICE (Set TF_CPP_MIN_LOG_LEVEL=0 and rerun for more info.)\n"
     ]
    }
   ],
   "source": [
    "N_FUNCTIONS = 1024\n",
    "N_POINTS = 64\n",
    "RHO = 1.0\n",
    "SIGMA = 2.0\n",
    "DOMAIN = 2\n",
    "NORM_SCALE = 4\n",
    "\n",
    "SPLIT = 0.8\n",
    "BATCH_SIZE = 64\n",
    "N_CONTEXT = 4\n",
    "N_TARGET = 32\n",
    "\n",
    "ENCODER_DIM = 128  # latent dimension of the encoder\n",
    "ENCODER_LAYERS = [2, ENCODER_DIM, ENCODER_DIM, ENCODER_DIM]  # number of neurons in each fully-connected layer\n",
    "DECODER_LAYERS = [ENCODER_DIM + 1, ENCODER_DIM, ENCODER_DIM, ENCODER_DIM, 2]  # number of neurons in each fully-connected layer\n",
    "LEARNING_RATE = 3e-4\n",
    "EPOCHS = 100\n",
    "PLOT_EVERY = int(100)  # plot progress during training every PRINT_EVERY epochs\n",
    "\n",
    "SEED = 5678\n",
    "key = jax.random.PRNGKey(SEED)"
   ]
  },
  {
   "cell_type": "code",
   "execution_count": 12,
   "metadata": {
    "execution": {
     "iopub.execute_input": "2024-04-19T15:32:28.294854Z",
     "iopub.status.busy": "2024-04-19T15:32:28.294721Z",
     "iopub.status.idle": "2024-04-19T15:32:28.969969Z",
     "shell.execute_reply": "2024-04-19T15:32:28.969550Z"
    }
   },
   "outputs": [
    {
     "name": "stdout",
     "output_type": "stream",
     "text": [
      "(1024, 64, 1) (1024, 64, 1)\n"
     ]
    }
   ],
   "source": [
    "key, subkey = jax.random.split(key, 2)\n",
    "x, y = sample_gp(\n",
    "    key=subkey,\n",
    "    n_imgs=N_FUNCTIONS,\n",
    "    domain=DOMAIN,\n",
    "    grid_steps=N_POINTS,\n",
    "    rho=RHO,\n",
    "    sigma=SIGMA,\n",
    ")\n",
    "\n",
    "print(x.shape, y.shape)"
   ]
  },
  {
   "cell_type": "code",
   "execution_count": 13,
   "metadata": {
    "execution": {
     "iopub.execute_input": "2024-04-19T15:32:28.971296Z",
     "iopub.status.busy": "2024-04-19T15:32:28.971151Z",
     "iopub.status.idle": "2024-04-19T15:32:28.973274Z",
     "shell.execute_reply": "2024-04-19T15:32:28.972968Z"
    }
   },
   "outputs": [],
   "source": [
    "y_norm, _, _ = normalize(y, NORM_SCALE)"
   ]
  },
  {
   "cell_type": "code",
   "execution_count": 14,
   "metadata": {
    "execution": {
     "iopub.execute_input": "2024-04-19T15:32:28.974411Z",
     "iopub.status.busy": "2024-04-19T15:32:28.974255Z",
     "iopub.status.idle": "2024-04-19T15:32:28.976711Z",
     "shell.execute_reply": "2024-04-19T15:32:28.976421Z"
    }
   },
   "outputs": [],
   "source": [
    "tensor_x, tensor_y = torch.Tensor(x), torch.Tensor(y_norm)\n",
    "\n",
    "dataset = TensorDataset(tensor_x, tensor_y)\n",
    "\n",
    "train_set, test_set = random_split(dataset, [SPLIT, 1 - SPLIT], generator=torch.Generator().manual_seed(SEED + 1))\n",
    "\n",
    "train_loader = DataLoader(train_set, batch_size=BATCH_SIZE, shuffle=True)\n",
    "test_loader = DataLoader(test_set, batch_size=BATCH_SIZE, shuffle=True)"
   ]
  },
  {
   "cell_type": "code",
   "execution_count": 15,
   "metadata": {
    "execution": {
     "iopub.execute_input": "2024-04-19T15:32:28.977717Z",
     "iopub.status.busy": "2024-04-19T15:32:28.977570Z",
     "iopub.status.idle": "2024-04-19T15:32:29.005222Z",
     "shell.execute_reply": "2024-04-19T15:32:29.004713Z"
    }
   },
   "outputs": [
    {
     "name": "stdout",
     "output_type": "stream",
     "text": [
      "(64, 64, 1) (64, 64, 1)\n"
     ]
    }
   ],
   "source": [
    "dummy_x, dummy_y = next(iter(train_loader))\n",
    "\n",
    "dummy_x, dummy_y = dummy_x.numpy(), dummy_y.numpy()\n",
    "\n",
    "print(dummy_x.shape, dummy_y.shape)"
   ]
  },
  {
   "cell_type": "code",
   "execution_count": 16,
   "metadata": {
    "execution": {
     "iopub.execute_input": "2024-04-19T15:32:29.006663Z",
     "iopub.status.busy": "2024-04-19T15:32:29.006504Z",
     "iopub.status.idle": "2024-04-19T15:32:29.333478Z",
     "shell.execute_reply": "2024-04-19T15:32:29.333013Z"
    }
   },
   "outputs": [
    {
     "name": "stdout",
     "output_type": "stream",
     "text": [
      "CNP(\n",
      "  layers=[\n",
      "    MLP(\n",
      "      layers=[\n",
      "        Linear(\n",
      "          weight=f32[128,2],\n",
      "          bias=f32[128],\n",
      "          in_features=2,\n",
      "          out_features=128,\n",
      "          use_bias=True\n",
      "        ),\n",
      "        <wrapped function tanh>,\n",
      "        Linear(\n",
      "          weight=f32[128,128],\n",
      "          bias=f32[128],\n",
      "          in_features=128,\n",
      "          out_features=128,\n",
      "          use_bias=True\n",
      "        ),\n",
      "        <wrapped function tanh>,\n",
      "        Linear(\n",
      "          weight=f32[128,128],\n",
      "          bias=f32[128],\n",
      "          in_features=128,\n",
      "          out_features=128,\n",
      "          use_bias=True\n",
      "        )\n",
      "      ]\n",
      "    ),\n",
      "    MLP(\n",
      "      layers=[\n",
      "        Linear(\n",
      "          weight=f32[128,129],\n",
      "          bias=f32[128],\n",
      "          in_features=129,\n",
      "          out_features=128,\n",
      "          use_bias=True\n",
      "        ),\n",
      "        <wrapped function tanh>,\n",
      "        Linear(\n",
      "          weight=f32[128,128],\n",
      "          bias=f32[128],\n",
      "          in_features=128,\n",
      "          out_features=128,\n",
      "          use_bias=True\n",
      "        ),\n",
      "        <wrapped function tanh>,\n",
      "        Linear(\n",
      "          weight=f32[128,128],\n",
      "          bias=f32[128],\n",
      "          in_features=128,\n",
      "          out_features=128,\n",
      "          use_bias=True\n",
      "        ),\n",
      "        <wrapped function tanh>,\n",
      "        Linear(\n",
      "          weight=f32[2,128],\n",
      "          bias=f32[2],\n",
      "          in_features=128,\n",
      "          out_features=2,\n",
      "          use_bias=True\n",
      "        )\n",
      "      ]\n",
      "    )\n",
      "  ]\n",
      ")\n"
     ]
    }
   ],
   "source": [
    "key, *subkeys = jax.random.split(key, 3)\n",
    "encoder = MLP(ENCODER_LAYERS, subkeys[0])\n",
    "decoder = MLP(DECODER_LAYERS, subkeys[1])\n",
    "\n",
    "model = CNP(encoder, decoder)\n",
    "\n",
    "print(model)"
   ]
  },
  {
   "cell_type": "code",
   "execution_count": 17,
   "metadata": {
    "execution": {
     "iopub.execute_input": "2024-04-19T15:32:29.334746Z",
     "iopub.status.busy": "2024-04-19T15:32:29.334647Z",
     "iopub.status.idle": "2024-04-19T15:32:29.336571Z",
     "shell.execute_reply": "2024-04-19T15:32:29.336259Z"
    }
   },
   "outputs": [],
   "source": [
    "optim = optax.adamw(LEARNING_RATE)"
   ]
  },
  {
   "cell_type": "code",
   "execution_count": 18,
   "metadata": {
    "execution": {
     "iopub.execute_input": "2024-04-19T15:32:29.337697Z",
     "iopub.status.busy": "2024-04-19T15:32:29.337544Z",
     "iopub.status.idle": "2024-04-19T15:32:29.339142Z",
     "shell.execute_reply": "2024-04-19T15:32:29.338860Z"
    }
   },
   "outputs": [],
   "source": [
    "# key, subkey = jax.random.split(key, 2)\n",
    "\n",
    "# %lprun -T lprofGPU1 -f train train(subkey, model, train_loader, test_loader, optim, N_CONTEXT, N_TARGET, EPOCHS, PLOT_EVERY)"
   ]
  },
  {
   "cell_type": "code",
   "execution_count": 19,
   "metadata": {
    "execution": {
     "iopub.execute_input": "2024-04-19T15:32:29.340112Z",
     "iopub.status.busy": "2024-04-19T15:32:29.339993Z",
     "iopub.status.idle": "2024-04-19T15:32:29.341627Z",
     "shell.execute_reply": "2024-04-19T15:32:29.341353Z"
    }
   },
   "outputs": [],
   "source": [
    "# key, subkey = jax.random.split(key, 2)\n",
    "\n",
    "# model = train(\n",
    "#     key,\n",
    "#     model,\n",
    "#     train_loader,\n",
    "#     test_loader,\n",
    "#     optim,\n",
    "#     N_CONTEXT,\n",
    "#     N_TARGET,\n",
    "#     EPOCHS,\n",
    "#     PLOT_EVERY,\n",
    "# )"
   ]
  },
  {
   "cell_type": "code",
   "execution_count": 20,
   "metadata": {
    "execution": {
     "iopub.execute_input": "2024-04-19T15:32:29.342674Z",
     "iopub.status.busy": "2024-04-19T15:32:29.342569Z",
     "iopub.status.idle": "2024-04-19T15:32:29.344155Z",
     "shell.execute_reply": "2024-04-19T15:32:29.343885Z"
    }
   },
   "outputs": [],
   "source": [
    "# eqx.tree_serialise_leaves('./trained-models/model', model)"
   ]
  },
  {
   "cell_type": "code",
   "execution_count": 21,
   "metadata": {
    "execution": {
     "iopub.execute_input": "2024-04-19T15:32:29.345203Z",
     "iopub.status.busy": "2024-04-19T15:32:29.345051Z",
     "iopub.status.idle": "2024-04-19T15:32:29.356162Z",
     "shell.execute_reply": "2024-04-19T15:32:29.355842Z"
    }
   },
   "outputs": [
    {
     "name": "stdout",
     "output_type": "stream",
     "text": [
      "CNP(\n",
      "  layers=[\n",
      "    MLP(\n",
      "      layers=[\n",
      "        Linear(\n",
      "          weight=f32[128,2],\n",
      "          bias=f32[128],\n",
      "          in_features=2,\n",
      "          out_features=128,\n",
      "          use_bias=True\n",
      "        ),\n",
      "        <wrapped function tanh>,\n",
      "        Linear(\n",
      "          weight=f32[128,128],\n",
      "          bias=f32[128],\n",
      "          in_features=128,\n",
      "          out_features=128,\n",
      "          use_bias=True\n",
      "        ),\n",
      "        <wrapped function tanh>,\n",
      "        Linear(\n",
      "          weight=f32[128,128],\n",
      "          bias=f32[128],\n",
      "          in_features=128,\n",
      "          out_features=128,\n",
      "          use_bias=True\n",
      "        )\n",
      "      ]\n",
      "    ),\n",
      "    MLP(\n",
      "      layers=[\n",
      "        Linear(\n",
      "          weight=f32[128,129],\n",
      "          bias=f32[128],\n",
      "          in_features=129,\n",
      "          out_features=128,\n",
      "          use_bias=True\n",
      "        ),\n",
      "        <wrapped function tanh>,\n",
      "        Linear(\n",
      "          weight=f32[128,128],\n",
      "          bias=f32[128],\n",
      "          in_features=128,\n",
      "          out_features=128,\n",
      "          use_bias=True\n",
      "        ),\n",
      "        <wrapped function tanh>,\n",
      "        Linear(\n",
      "          weight=f32[128,128],\n",
      "          bias=f32[128],\n",
      "          in_features=128,\n",
      "          out_features=128,\n",
      "          use_bias=True\n",
      "        ),\n",
      "        <wrapped function tanh>,\n",
      "        Linear(\n",
      "          weight=f32[2,128],\n",
      "          bias=f32[2],\n",
      "          in_features=128,\n",
      "          out_features=2,\n",
      "          use_bias=True\n",
      "        )\n",
      "      ]\n",
      "    )\n",
      "  ]\n",
      ")\n"
     ]
    }
   ],
   "source": [
    "model = CNP(encoder, decoder)\n",
    "\n",
    "model = eqx.tree_deserialise_leaves('./trained-models/model.eqx', model)\n",
    "\n",
    "print(model)"
   ]
  },
  {
   "cell_type": "code",
   "execution_count": 22,
   "metadata": {
    "execution": {
     "iopub.execute_input": "2024-04-19T15:32:29.357226Z",
     "iopub.status.busy": "2024-04-19T15:32:29.357115Z",
     "iopub.status.idle": "2024-04-19T15:32:29.492611Z",
     "shell.execute_reply": "2024-04-19T15:32:29.492215Z"
    }
   },
   "outputs": [],
   "source": [
    "key, subkey = jax.random.split(key, 2)\n",
    "x_test, y_test = sample_gp(subkey, 1, DOMAIN, N_POINTS, 1.0, 2.0)\n",
    "\n",
    "y_test_norm, min_val, max_val = normalize(y_test, NORM_SCALE)\n",
    "\n",
    "key, *subkeys = jax.random.split(key, 3)\n",
    "x_test_context, y_test_context_norm, _, _ = split_data(subkeys, x_test, y_test_norm, N_CONTEXT, N_POINTS)"
   ]
  },
  {
   "cell_type": "code",
   "execution_count": 23,
   "metadata": {
    "execution": {
     "iopub.execute_input": "2024-04-19T15:32:29.494714Z",
     "iopub.status.busy": "2024-04-19T15:32:29.494625Z",
     "iopub.status.idle": "2024-04-19T15:32:29.756897Z",
     "shell.execute_reply": "2024-04-19T15:32:29.756513Z"
    }
   },
   "outputs": [],
   "source": [
    "y_preds = model(x_test_context, y_test_context_norm, x_test)\n",
    "\n",
    "y_mu = unnormalize(jnp.squeeze(y_preds.mean), min_val, max_val, NORM_SCALE)\n",
    "y_sigma = unnormalize_std(jnp.squeeze(jnp.sqrt(y_preds.variance)), min_val, max_val, NORM_SCALE)"
   ]
  },
  {
   "cell_type": "code",
   "execution_count": 24,
   "metadata": {
    "execution": {
     "iopub.execute_input": "2024-04-19T15:32:29.758723Z",
     "iopub.status.busy": "2024-04-19T15:32:29.758589Z",
     "iopub.status.idle": "2024-04-19T15:32:29.966102Z",
     "shell.execute_reply": "2024-04-19T15:32:29.965742Z"
    }
   },
   "outputs": [
    {
     "data": {
      "image/png": "[encoded data removed]",
      "text/plain": [
       "<Figure size 700x400 with 1 Axes>"
      ]
     },
     "metadata": {},
     "output_type": "display_data"
    }
   ],
   "source": [
    "x_plot = np.squeeze(x_test)\n",
    "\n",
    "fig, ax = plt.subplots(figsize=(7, 4))\n",
    "\n",
    "ax.scatter(x_plot, jnp.squeeze(y_test), label=\"true\")\n",
    "ax.scatter(x_test_context, unnormalize(y_test_context_norm, min_val, max_val, NORM_SCALE), label=\"context\")\n",
    "ax.plot(x_plot, y_mu, c='k', label='mu')\n",
    "ax.fill_between(x_plot, y_mu - y_sigma, y_mu + y_sigma, color='grey', alpha=0.5, label=\"+- sigma\")\n",
    "\n",
    "ax.legend()\n",
    "\n",
    "plt.show()"
   ]
  },
  {
   "cell_type": "code",
   "execution_count": null,
   "metadata": {},
   "outputs": [],
   "source": []
  }
 ],
 "metadata": {
  "kernelspec": {
   "display_name": "venv",
   "language": "python",
   "name": "python3"
  },
  "language_info": {
   "codemirror_mode": {
    "name": "ipython",
    "version": 3
   },
   "file_extension": ".py",
   "mimetype": "text/x-python",
   "name": "python",
   "nbconvert_exporter": "python",
   "pygments_lexer": "ipython3",
   "version": "3.10.9"
  }
 },
 "nbformat": 4,
 "nbformat_minor": 2
}
